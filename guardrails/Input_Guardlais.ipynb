{
  "nbformat": 4,
  "nbformat_minor": 0,
  "metadata": {
    "colab": {
      "provenance": []
    },
    "kernelspec": {
      "name": "python3",
      "display_name": "Python 3"
    },
    "language_info": {
      "name": "python"
    }
  },
  "cells": [
    {
      "cell_type": "code",
      "execution_count": 2,
      "metadata": {
        "colab": {
          "base_uri": "https://localhost:8080/"
        },
        "id": "-zI_S_Cs5RKj",
        "outputId": "a067e3d8-e70c-4a8d-b3fc-710b7b1172d4"
      },
      "outputs": [
        {
          "output_type": "stream",
          "name": "stdout",
          "text": [
            "\u001b[?25l   \u001b[90m━━━━━━━━━━━━━━━━━━━━━━━━━━━━━━━━━━━━━━━━\u001b[0m \u001b[32m0.0/117.2 kB\u001b[0m \u001b[31m?\u001b[0m eta \u001b[36m-:--:--\u001b[0m\r\u001b[2K   \u001b[90m━━━━━━━━━━━━━━━━━━━━━━━━━━━━━━━━━━━━━━━━\u001b[0m \u001b[32m117.2/117.2 kB\u001b[0m \u001b[31m5.8 MB/s\u001b[0m eta \u001b[36m0:00:00\u001b[0m\n",
            "\u001b[?25h\u001b[?25l   \u001b[90m━━━━━━━━━━━━━━━━━━━━━━━━━━━━━━━━━━━━━━━━\u001b[0m \u001b[32m0.0/129.3 kB\u001b[0m \u001b[31m?\u001b[0m eta \u001b[36m-:--:--\u001b[0m\r\u001b[2K   \u001b[90m━━━━━━━━━━━━━━━━━━━━━━━━━━━━━━━━━━━━━━━━\u001b[0m \u001b[32m129.3/129.3 kB\u001b[0m \u001b[31m9.7 MB/s\u001b[0m eta \u001b[36m0:00:00\u001b[0m\n",
            "\u001b[2K   \u001b[90m━━━━━━━━━━━━━━━━━━━━━━━━━━━━━━━━━━━━━━━━\u001b[0m \u001b[32m7.6/7.6 MB\u001b[0m \u001b[31m101.4 MB/s\u001b[0m eta \u001b[36m0:00:00\u001b[0m\n",
            "\u001b[2K   \u001b[90m━━━━━━━━━━━━━━━━━━━━━━━━━━━━━━━━━━━━━━━━\u001b[0m \u001b[32m125.1/125.1 kB\u001b[0m \u001b[31m8.6 MB/s\u001b[0m eta \u001b[36m0:00:00\u001b[0m\n",
            "\u001b[2K   \u001b[90m━━━━━━━━━━━━━━━━━━━━━━━━━━━━━━━━━━━━━━━━\u001b[0m \u001b[32m44.4/44.4 kB\u001b[0m \u001b[31m2.9 MB/s\u001b[0m eta \u001b[36m0:00:00\u001b[0m\n",
            "\u001b[2K   \u001b[90m━━━━━━━━━━━━━━━━━━━━━━━━━━━━━━━━━━━━━━━━\u001b[0m \u001b[32m72.0/72.0 kB\u001b[0m \u001b[31m4.9 MB/s\u001b[0m eta \u001b[36m0:00:00\u001b[0m\n",
            "\u001b[2K   \u001b[90m━━━━━━━━━━━━━━━━━━━━━━━━━━━━━━━━━━━━━━━━\u001b[0m \u001b[32m62.5/62.5 kB\u001b[0m \u001b[31m4.4 MB/s\u001b[0m eta \u001b[36m0:00:00\u001b[0m\n",
            "\u001b[?25h"
          ]
        }
      ],
      "source": [
        "!pip install -qU openai-agents \"openai-agents[litellm]\""
      ]
    },
    {
      "cell_type": "code",
      "source": [
        "# Just for Colab to run async methods\n",
        "import nest_asyncio\n",
        "nest_asyncio.apply()"
      ],
      "metadata": {
        "id": "igrFQBIY5lB4"
      },
      "execution_count": 166,
      "outputs": []
    },
    {
      "cell_type": "code",
      "source": [
        "from google.colab import userdata\n",
        "import os\n",
        "\n",
        "API_KEY = userdata.get('GOOGLE_API_KEY')\n",
        "os.environ[\"GEMINI_API_KEY\"] = API_KEY"
      ],
      "metadata": {
        "id": "_fDgf4Mw5s-Y"
      },
      "execution_count": 167,
      "outputs": []
    },
    {
      "cell_type": "code",
      "source": [
        "from agents import Agent, Runner, set_tracing_disabled, GuardrailFunctionOutput, input_guardrail, output_guardrail, RunContextWrapper, TResponseInputItem, InputGuardrailTripwireTriggered\n",
        "from agents.extensions.models.litellm_model import LitellmModel\n",
        "from pydantic import BaseModel\n",
        "import asyncio"
      ],
      "metadata": {
        "id": "KIrO5Ag06A-V"
      },
      "execution_count": 168,
      "outputs": []
    },
    {
      "cell_type": "code",
      "source": [
        "class MathHomeWorkOutput(BaseModel):\n",
        "    is_not_math_related_task: bool\n",
        "    rasoning: str"
      ],
      "metadata": {
        "id": "EeIPw1lN8zdG"
      },
      "execution_count": 169,
      "outputs": []
    },
    {
      "cell_type": "code",
      "source": [
        "set_tracing_disabled(True)"
      ],
      "metadata": {
        "id": "K-nZ3uBc-PlL"
      },
      "execution_count": 170,
      "outputs": []
    },
    {
      "cell_type": "code",
      "source": [
        "guardrail_agent = Agent(\n",
        "    name= \"Guardrail Check\",\n",
        "    instructions= \"Check if input not Math related task\",\n",
        "    model=LitellmModel(model=\"gemini/gemini-1.5-flash\"),\n",
        "    output_type=MathHomeWorkOutput\n",
        ")"
      ],
      "metadata": {
        "id": "4f10pLp55x0s"
      },
      "execution_count": 171,
      "outputs": []
    },
    {
      "cell_type": "code",
      "source": [
        "@input_guardrail\n",
        "async def math_guardrail( ctx: RunContextWrapper[None], agent: Agent, input: str | list[TResponseInputItem]) -> GuardrailFunctionOutput:\n",
        "\n",
        "  result = await Runner.run(guardrail_agent, input, context=ctx.context)\n",
        "  print(result.final_output.model_dump())\n",
        "\n",
        "  return GuardrailFunctionOutput(\n",
        "      output_info=result.final_output,\n",
        "      tripwire_triggered= result.final_output.is_not_math_related_task,\n",
        "  )\n"
      ],
      "metadata": {
        "id": "bPa89wjQ-rYj"
      },
      "execution_count": 172,
      "outputs": []
    },
    {
      "cell_type": "code",
      "source": [
        "assistant_agent = Agent(\n",
        "      name=\"Assistant\",\n",
        "      instructions=\"You are a helpful asistant agent of solving Math related.\",\n",
        "      model=LitellmModel(model=\"gemini/gemini-2.0-flash\"), # Good model use for better result,\n",
        "      input_guardrails=[math_guardrail]\n",
        "  )"
      ],
      "metadata": {
        "id": "4z0z0nMKB3E5"
      },
      "execution_count": 173,
      "outputs": []
    },
    {
      "cell_type": "code",
      "source": [
        "try:\n",
        "  main_agent_result = Runner.run_sync(assistant_agent, \"Hello\")\n",
        "  print(main_agent_result.final_output)\n",
        "except InputGuardrailTripwireTriggered as e:\n",
        "  print(\"Please ask only math related question.\")"
      ],
      "metadata": {
        "colab": {
          "base_uri": "https://localhost:8080/"
        },
        "id": "uVh_pmGD7Z5L",
        "outputId": "11d8366d-c3ef-477c-a01f-684b9df7d85c"
      },
      "execution_count": 174,
      "outputs": [
        {
          "output_type": "stream",
          "name": "stdout",
          "text": [
            "{'is_not_math_related_task': True, 'rasoning': \"The input is a greeting and doesn't contain any mathematical expressions or questions.\"}\n",
            "Please ask only math related question.\n"
          ]
        }
      ]
    }
  ]
}