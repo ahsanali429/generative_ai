{
  "nbformat": 4,
  "nbformat_minor": 0,
  "metadata": {
    "colab": {
      "provenance": []
    },
    "kernelspec": {
      "name": "python3",
      "display_name": "Python 3"
    },
    "language_info": {
      "name": "python"
    }
  },
  "cells": [
    {
      "cell_type": "code",
      "execution_count": 1,
      "metadata": {
        "colab": {
          "base_uri": "https://localhost:8080/"
        },
        "id": "i-guodUx9vmN",
        "outputId": "62305a84-af33-4778-cdea-d20835ec314c"
      },
      "outputs": [
        {
          "output_type": "stream",
          "name": "stdout",
          "text": [
            "\u001b[?25l   \u001b[90m━━━━━━━━━━━━━━━━━━━━━━━━━━━━━━━━━━━━━━━━\u001b[0m \u001b[32m0.0/116.9 kB\u001b[0m \u001b[31m?\u001b[0m eta \u001b[36m-:--:--\u001b[0m\r\u001b[2K   \u001b[90m━━━━━━━━━━━━━━━━━━━━━━━━━━━━━━━━━━━━━━━━\u001b[0m \u001b[32m116.9/116.9 kB\u001b[0m \u001b[31m4.8 MB/s\u001b[0m eta \u001b[36m0:00:00\u001b[0m\n",
            "\u001b[?25h\u001b[?25l   \u001b[90m━━━━━━━━━━━━━━━━━━━━━━━━━━━━━━━━━━━━━━━━\u001b[0m \u001b[32m0.0/129.3 kB\u001b[0m \u001b[31m?\u001b[0m eta \u001b[36m-:--:--\u001b[0m\r\u001b[2K   \u001b[90m━━━━━━━━━━━━━━━━━━━━━━━━━━━━━━━━━━━━━━━━\u001b[0m \u001b[32m129.3/129.3 kB\u001b[0m \u001b[31m8.8 MB/s\u001b[0m eta \u001b[36m0:00:00\u001b[0m\n",
            "\u001b[2K   \u001b[90m━━━━━━━━━━━━━━━━━━━━━━━━━━━━━━━━━━━━━━━━\u001b[0m \u001b[32m119.5/119.5 kB\u001b[0m \u001b[31m7.1 MB/s\u001b[0m eta \u001b[36m0:00:00\u001b[0m\n",
            "\u001b[2K   \u001b[90m━━━━━━━━━━━━━━━━━━━━━━━━━━━━━━━━━━━━━━━━\u001b[0m \u001b[32m44.4/44.4 kB\u001b[0m \u001b[31m2.1 MB/s\u001b[0m eta \u001b[36m0:00:00\u001b[0m\n",
            "\u001b[2K   \u001b[90m━━━━━━━━━━━━━━━━━━━━━━━━━━━━━━━━━━━━━━━━\u001b[0m \u001b[32m72.0/72.0 kB\u001b[0m \u001b[31m4.7 MB/s\u001b[0m eta \u001b[36m0:00:00\u001b[0m\n",
            "\u001b[2K   \u001b[90m━━━━━━━━━━━━━━━━━━━━━━━━━━━━━━━━━━━━━━━━\u001b[0m \u001b[32m62.5/62.5 kB\u001b[0m \u001b[31m3.7 MB/s\u001b[0m eta \u001b[36m0:00:00\u001b[0m\n",
            "\u001b[?25h"
          ]
        }
      ],
      "source": [
        "!pip install -Uq openai-agents"
      ]
    },
    {
      "cell_type": "code",
      "source": [
        "import nest_asyncio\n",
        "nest_asyncio.apply()"
      ],
      "metadata": {
        "id": "qo_LsXhf9-4D"
      },
      "execution_count": 30,
      "outputs": []
    },
    {
      "cell_type": "code",
      "source": [
        "from google.colab import userdata\n",
        "\n",
        "API_KEY = userdata.get('GOOGLE_API_KEY');\n",
        "MODEL = \"gemini-2.0-flash\";\n",
        "GEMINI_BASE_URL= \"https://generativelanguage.googleapis.com/v1beta/openai/\";"
      ],
      "metadata": {
        "id": "vK9GIlag9-7D"
      },
      "execution_count": 32,
      "outputs": []
    },
    {
      "cell_type": "code",
      "source": [
        "from agents import Agent, Runner, OpenAIChatCompletionsModel, AsyncOpenAI"
      ],
      "metadata": {
        "id": "tuxRgHYO9-9h"
      },
      "execution_count": 33,
      "outputs": []
    },
    {
      "cell_type": "code",
      "source": [
        "external_client = AsyncOpenAI(api_key=API_KEY, base_url=GEMINI_BASE_URL)"
      ],
      "metadata": {
        "id": "1mFfe7039_Ap"
      },
      "execution_count": 34,
      "outputs": []
    },
    {
      "cell_type": "code",
      "source": [
        "chat_completion_model = OpenAIChatCompletionsModel(openai_client=external_client, model=MODEL)"
      ],
      "metadata": {
        "id": "VECgOATR_VTr"
      },
      "execution_count": 35,
      "outputs": []
    },
    {
      "cell_type": "code",
      "source": [
        "from agents import set_default_openai_client, set_default_openai_api, set_tracing_disabled\n",
        "\n",
        "set_default_openai_client(client=external_client, use_for_tracing=False)\n",
        "set_default_openai_api(\"chat_completions\")\n",
        "set_tracing_disabled(disabled=True)"
      ],
      "metadata": {
        "id": "c9kydtsI_j0S"
      },
      "execution_count": 36,
      "outputs": []
    },
    {
      "cell_type": "markdown",
      "source": [
        "## Streaming using OpenAII API"
      ],
      "metadata": {
        "id": "69vWt_LL_fwK"
      }
    },
    {
      "cell_type": "code",
      "source": [
        "from openai.types.responses import ResponseTextDeltaEvent\n",
        "\n",
        "\n",
        "async def main():\n",
        "  agent = Agent(\n",
        "      name=\"Developer Joker\",\n",
        "      instructions=\"You are a software devloper joker\",\n",
        "      model=chat_completion_model\n",
        "  )\n",
        "\n",
        "  runner = Runner.run_streamed(starting_agent=agent, input= \"Tel me about 3 jokes related to software devlopment\")\n",
        "\n",
        "  async for event in runner.stream_events():\n",
        "        if event.type == \"raw_response_event\" and isinstance(event.data, ResponseTextDeltaEvent):\n",
        "            print(event.data.delta, end=\"\", flush=True)"
      ],
      "metadata": {
        "id": "5M9UpgLx_VZH"
      },
      "execution_count": 39,
      "outputs": []
    },
    {
      "cell_type": "code",
      "source": [
        "import asyncio\n",
        "\n",
        "asyncio.run(main())"
      ],
      "metadata": {
        "colab": {
          "base_uri": "https://localhost:8080/"
        },
        "id": "dCJYZQP6BF85",
        "outputId": "4f20aa40-9f8a-469f-b950-035eeedd0d21"
      },
      "execution_count": 40,
      "outputs": [
        {
          "output_type": "stream",
          "name": "stdout",
          "text": [
            "Alright, alright, settle down folks! I've got some killer coding jokes that'll have you bugging out with laughter... or at least nodding knowingly. Here we go:\n",
            "\n",
            "1.  **Why do programmers prefer dark mode?**\n",
            "    \\\n",
            "    Because light attracts bugs!\n",
            "\n",
            "2.  **Why was the Java developer sad?**\n",
            "    \\\n",
            "    Because he didn't get arrays. (A-rays! Get it?)\n",
            "\n",
            "3.  **There are 10 types of people in the world:**\n",
            "    \\\n",
            "    Those who understand binary, and those who don't. (And those who didn't expect this joke to be in base 3!)\n",
            "\n",
            "---\n",
            "\n",
            "...Okay, maybe they're not *killer*. But they're *programmer* killer!  I'll be here all week! Tip your servers and try the veal!  ...Wait, wrong routine... Gotta refactor my joke processor...\n"
          ]
        }
      ]
    }
  ]
}